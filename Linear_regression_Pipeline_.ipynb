{
 "cells": [
  {
   "cell_type": "code",
   "execution_count": 1,
   "id": "9e75d8cc-136d-428d-8557-609e8d90c8aa",
   "metadata": {},
   "outputs": [],
   "source": [
    "import pandas as pd\n",
    "from sklearn.pipeline import Pipeline\n",
    "from sklearn.preprocessing import StandardScaler\n",
    "from sklearn.linear_model import LinearRegression"
   ]
  },
  {
   "cell_type": "code",
   "execution_count": 3,
   "id": "397491be-6b7a-4954-a53c-3308de32a5db",
   "metadata": {},
   "outputs": [],
   "source": [
    "steps = [\n",
    "    (\"StandardScaler\",StandardScaler()),\n",
    "    (\"Classifire\",LinearRegression())\n",
    "]"
   ]
  },
  {
   "cell_type": "code",
   "execution_count": 4,
   "id": "376aa6b5-54c7-41d3-9b34-bb4df09776c7",
   "metadata": {},
   "outputs": [],
   "source": [
    "pipe = Pipeline(steps)"
   ]
  },
  {
   "cell_type": "code",
   "execution_count": 5,
   "id": "d522fea8-3b72-4408-8cf4-e23f9b41e1d2",
   "metadata": {},
   "outputs": [
    {
     "data": {
      "text/html": [
       "<style>#sk-container-id-1 {color: black;background-color: white;}#sk-container-id-1 pre{padding: 0;}#sk-container-id-1 div.sk-toggleable {background-color: white;}#sk-container-id-1 label.sk-toggleable__label {cursor: pointer;display: block;width: 100%;margin-bottom: 0;padding: 0.3em;box-sizing: border-box;text-align: center;}#sk-container-id-1 label.sk-toggleable__label-arrow:before {content: \"▸\";float: left;margin-right: 0.25em;color: #696969;}#sk-container-id-1 label.sk-toggleable__label-arrow:hover:before {color: black;}#sk-container-id-1 div.sk-estimator:hover label.sk-toggleable__label-arrow:before {color: black;}#sk-container-id-1 div.sk-toggleable__content {max-height: 0;max-width: 0;overflow: hidden;text-align: left;background-color: #f0f8ff;}#sk-container-id-1 div.sk-toggleable__content pre {margin: 0.2em;color: black;border-radius: 0.25em;background-color: #f0f8ff;}#sk-container-id-1 input.sk-toggleable__control:checked~div.sk-toggleable__content {max-height: 200px;max-width: 100%;overflow: auto;}#sk-container-id-1 input.sk-toggleable__control:checked~label.sk-toggleable__label-arrow:before {content: \"▾\";}#sk-container-id-1 div.sk-estimator input.sk-toggleable__control:checked~label.sk-toggleable__label {background-color: #d4ebff;}#sk-container-id-1 div.sk-label input.sk-toggleable__control:checked~label.sk-toggleable__label {background-color: #d4ebff;}#sk-container-id-1 input.sk-hidden--visually {border: 0;clip: rect(1px 1px 1px 1px);clip: rect(1px, 1px, 1px, 1px);height: 1px;margin: -1px;overflow: hidden;padding: 0;position: absolute;width: 1px;}#sk-container-id-1 div.sk-estimator {font-family: monospace;background-color: #f0f8ff;border: 1px dotted black;border-radius: 0.25em;box-sizing: border-box;margin-bottom: 0.5em;}#sk-container-id-1 div.sk-estimator:hover {background-color: #d4ebff;}#sk-container-id-1 div.sk-parallel-item::after {content: \"\";width: 100%;border-bottom: 1px solid gray;flex-grow: 1;}#sk-container-id-1 div.sk-label:hover label.sk-toggleable__label {background-color: #d4ebff;}#sk-container-id-1 div.sk-serial::before {content: \"\";position: absolute;border-left: 1px solid gray;box-sizing: border-box;top: 0;bottom: 0;left: 50%;z-index: 0;}#sk-container-id-1 div.sk-serial {display: flex;flex-direction: column;align-items: center;background-color: white;padding-right: 0.2em;padding-left: 0.2em;position: relative;}#sk-container-id-1 div.sk-item {position: relative;z-index: 1;}#sk-container-id-1 div.sk-parallel {display: flex;align-items: stretch;justify-content: center;background-color: white;position: relative;}#sk-container-id-1 div.sk-item::before, #sk-container-id-1 div.sk-parallel-item::before {content: \"\";position: absolute;border-left: 1px solid gray;box-sizing: border-box;top: 0;bottom: 0;left: 50%;z-index: -1;}#sk-container-id-1 div.sk-parallel-item {display: flex;flex-direction: column;z-index: 1;position: relative;background-color: white;}#sk-container-id-1 div.sk-parallel-item:first-child::after {align-self: flex-end;width: 50%;}#sk-container-id-1 div.sk-parallel-item:last-child::after {align-self: flex-start;width: 50%;}#sk-container-id-1 div.sk-parallel-item:only-child::after {width: 0;}#sk-container-id-1 div.sk-dashed-wrapped {border: 1px dashed gray;margin: 0 0.4em 0.5em 0.4em;box-sizing: border-box;padding-bottom: 0.4em;background-color: white;}#sk-container-id-1 div.sk-label label {font-family: monospace;font-weight: bold;display: inline-block;line-height: 1.2em;}#sk-container-id-1 div.sk-label-container {text-align: center;}#sk-container-id-1 div.sk-container {/* jupyter's `normalize.less` sets `[hidden] { display: none; }` but bootstrap.min.css set `[hidden] { display: none !important; }` so we also need the `!important` here to be able to override the default hidden behavior on the sphinx rendered scikit-learn.org. See: https://github.com/scikit-learn/scikit-learn/issues/21755 */display: inline-block !important;position: relative;}#sk-container-id-1 div.sk-text-repr-fallback {display: none;}</style><div id=\"sk-container-id-1\" class=\"sk-top-container\"><div class=\"sk-text-repr-fallback\"><pre>Pipeline(steps=[(&#x27;StandardScaler&#x27;, StandardScaler()),\n",
       "                (&#x27;Classifire&#x27;, LinearRegression())])</pre><b>In a Jupyter environment, please rerun this cell to show the HTML representation or trust the notebook. <br />On GitHub, the HTML representation is unable to render, please try loading this page with nbviewer.org.</b></div><div class=\"sk-container\" hidden><div class=\"sk-item sk-dashed-wrapped\"><div class=\"sk-label-container\"><div class=\"sk-label sk-toggleable\"><input class=\"sk-toggleable__control sk-hidden--visually\" id=\"sk-estimator-id-1\" type=\"checkbox\" ><label for=\"sk-estimator-id-1\" class=\"sk-toggleable__label sk-toggleable__label-arrow\">Pipeline</label><div class=\"sk-toggleable__content\"><pre>Pipeline(steps=[(&#x27;StandardScaler&#x27;, StandardScaler()),\n",
       "                (&#x27;Classifire&#x27;, LinearRegression())])</pre></div></div></div><div class=\"sk-serial\"><div class=\"sk-item\"><div class=\"sk-estimator sk-toggleable\"><input class=\"sk-toggleable__control sk-hidden--visually\" id=\"sk-estimator-id-2\" type=\"checkbox\" ><label for=\"sk-estimator-id-2\" class=\"sk-toggleable__label sk-toggleable__label-arrow\">StandardScaler</label><div class=\"sk-toggleable__content\"><pre>StandardScaler()</pre></div></div></div><div class=\"sk-item\"><div class=\"sk-estimator sk-toggleable\"><input class=\"sk-toggleable__control sk-hidden--visually\" id=\"sk-estimator-id-3\" type=\"checkbox\" ><label for=\"sk-estimator-id-3\" class=\"sk-toggleable__label sk-toggleable__label-arrow\">LinearRegression</label><div class=\"sk-toggleable__content\"><pre>LinearRegression()</pre></div></div></div></div></div></div></div>"
      ],
      "text/plain": [
       "Pipeline(steps=[('StandardScaler', StandardScaler()),\n",
       "                ('Classifire', LinearRegression())])"
      ]
     },
     "execution_count": 5,
     "metadata": {},
     "output_type": "execute_result"
    }
   ],
   "source": [
    "pipe"
   ]
  },
  {
   "cell_type": "code",
   "execution_count": 6,
   "id": "73741395-3853-48d9-95fb-0b10ad4ccc74",
   "metadata": {},
   "outputs": [],
   "source": [
    "from sklearn import set_config"
   ]
  },
  {
   "cell_type": "code",
   "execution_count": 7,
   "id": "4ddf925a-b871-4170-ab3b-eb0d6e0e8a90",
   "metadata": {},
   "outputs": [],
   "source": [
    "set_config(display=\"diagram\")"
   ]
  },
  {
   "cell_type": "code",
   "execution_count": 8,
   "id": "340387b3-fee1-4d04-86bb-c30f1115f770",
   "metadata": {},
   "outputs": [
    {
     "data": {
      "text/html": [
       "<style>#sk-container-id-2 {color: black;background-color: white;}#sk-container-id-2 pre{padding: 0;}#sk-container-id-2 div.sk-toggleable {background-color: white;}#sk-container-id-2 label.sk-toggleable__label {cursor: pointer;display: block;width: 100%;margin-bottom: 0;padding: 0.3em;box-sizing: border-box;text-align: center;}#sk-container-id-2 label.sk-toggleable__label-arrow:before {content: \"▸\";float: left;margin-right: 0.25em;color: #696969;}#sk-container-id-2 label.sk-toggleable__label-arrow:hover:before {color: black;}#sk-container-id-2 div.sk-estimator:hover label.sk-toggleable__label-arrow:before {color: black;}#sk-container-id-2 div.sk-toggleable__content {max-height: 0;max-width: 0;overflow: hidden;text-align: left;background-color: #f0f8ff;}#sk-container-id-2 div.sk-toggleable__content pre {margin: 0.2em;color: black;border-radius: 0.25em;background-color: #f0f8ff;}#sk-container-id-2 input.sk-toggleable__control:checked~div.sk-toggleable__content {max-height: 200px;max-width: 100%;overflow: auto;}#sk-container-id-2 input.sk-toggleable__control:checked~label.sk-toggleable__label-arrow:before {content: \"▾\";}#sk-container-id-2 div.sk-estimator input.sk-toggleable__control:checked~label.sk-toggleable__label {background-color: #d4ebff;}#sk-container-id-2 div.sk-label input.sk-toggleable__control:checked~label.sk-toggleable__label {background-color: #d4ebff;}#sk-container-id-2 input.sk-hidden--visually {border: 0;clip: rect(1px 1px 1px 1px);clip: rect(1px, 1px, 1px, 1px);height: 1px;margin: -1px;overflow: hidden;padding: 0;position: absolute;width: 1px;}#sk-container-id-2 div.sk-estimator {font-family: monospace;background-color: #f0f8ff;border: 1px dotted black;border-radius: 0.25em;box-sizing: border-box;margin-bottom: 0.5em;}#sk-container-id-2 div.sk-estimator:hover {background-color: #d4ebff;}#sk-container-id-2 div.sk-parallel-item::after {content: \"\";width: 100%;border-bottom: 1px solid gray;flex-grow: 1;}#sk-container-id-2 div.sk-label:hover label.sk-toggleable__label {background-color: #d4ebff;}#sk-container-id-2 div.sk-serial::before {content: \"\";position: absolute;border-left: 1px solid gray;box-sizing: border-box;top: 0;bottom: 0;left: 50%;z-index: 0;}#sk-container-id-2 div.sk-serial {display: flex;flex-direction: column;align-items: center;background-color: white;padding-right: 0.2em;padding-left: 0.2em;position: relative;}#sk-container-id-2 div.sk-item {position: relative;z-index: 1;}#sk-container-id-2 div.sk-parallel {display: flex;align-items: stretch;justify-content: center;background-color: white;position: relative;}#sk-container-id-2 div.sk-item::before, #sk-container-id-2 div.sk-parallel-item::before {content: \"\";position: absolute;border-left: 1px solid gray;box-sizing: border-box;top: 0;bottom: 0;left: 50%;z-index: -1;}#sk-container-id-2 div.sk-parallel-item {display: flex;flex-direction: column;z-index: 1;position: relative;background-color: white;}#sk-container-id-2 div.sk-parallel-item:first-child::after {align-self: flex-end;width: 50%;}#sk-container-id-2 div.sk-parallel-item:last-child::after {align-self: flex-start;width: 50%;}#sk-container-id-2 div.sk-parallel-item:only-child::after {width: 0;}#sk-container-id-2 div.sk-dashed-wrapped {border: 1px dashed gray;margin: 0 0.4em 0.5em 0.4em;box-sizing: border-box;padding-bottom: 0.4em;background-color: white;}#sk-container-id-2 div.sk-label label {font-family: monospace;font-weight: bold;display: inline-block;line-height: 1.2em;}#sk-container-id-2 div.sk-label-container {text-align: center;}#sk-container-id-2 div.sk-container {/* jupyter's `normalize.less` sets `[hidden] { display: none; }` but bootstrap.min.css set `[hidden] { display: none !important; }` so we also need the `!important` here to be able to override the default hidden behavior on the sphinx rendered scikit-learn.org. See: https://github.com/scikit-learn/scikit-learn/issues/21755 */display: inline-block !important;position: relative;}#sk-container-id-2 div.sk-text-repr-fallback {display: none;}</style><div id=\"sk-container-id-2\" class=\"sk-top-container\"><div class=\"sk-text-repr-fallback\"><pre>Pipeline(steps=[(&#x27;StandardScaler&#x27;, StandardScaler()),\n",
       "                (&#x27;Classifire&#x27;, LinearRegression())])</pre><b>In a Jupyter environment, please rerun this cell to show the HTML representation or trust the notebook. <br />On GitHub, the HTML representation is unable to render, please try loading this page with nbviewer.org.</b></div><div class=\"sk-container\" hidden><div class=\"sk-item sk-dashed-wrapped\"><div class=\"sk-label-container\"><div class=\"sk-label sk-toggleable\"><input class=\"sk-toggleable__control sk-hidden--visually\" id=\"sk-estimator-id-4\" type=\"checkbox\" ><label for=\"sk-estimator-id-4\" class=\"sk-toggleable__label sk-toggleable__label-arrow\">Pipeline</label><div class=\"sk-toggleable__content\"><pre>Pipeline(steps=[(&#x27;StandardScaler&#x27;, StandardScaler()),\n",
       "                (&#x27;Classifire&#x27;, LinearRegression())])</pre></div></div></div><div class=\"sk-serial\"><div class=\"sk-item\"><div class=\"sk-estimator sk-toggleable\"><input class=\"sk-toggleable__control sk-hidden--visually\" id=\"sk-estimator-id-5\" type=\"checkbox\" ><label for=\"sk-estimator-id-5\" class=\"sk-toggleable__label sk-toggleable__label-arrow\">StandardScaler</label><div class=\"sk-toggleable__content\"><pre>StandardScaler()</pre></div></div></div><div class=\"sk-item\"><div class=\"sk-estimator sk-toggleable\"><input class=\"sk-toggleable__control sk-hidden--visually\" id=\"sk-estimator-id-6\" type=\"checkbox\" ><label for=\"sk-estimator-id-6\" class=\"sk-toggleable__label sk-toggleable__label-arrow\">LinearRegression</label><div class=\"sk-toggleable__content\"><pre>LinearRegression()</pre></div></div></div></div></div></div></div>"
      ],
      "text/plain": [
       "Pipeline(steps=[('StandardScaler', StandardScaler()),\n",
       "                ('Classifire', LinearRegression())])"
      ]
     },
     "execution_count": 8,
     "metadata": {},
     "output_type": "execute_result"
    }
   ],
   "source": [
    "pipe"
   ]
  },
  {
   "cell_type": "code",
   "execution_count": 11,
   "id": "dde8854c-19bb-478a-a257-aec183e858a9",
   "metadata": {},
   "outputs": [],
   "source": [
    "df = pd.read_csv(\"D:\\\\practice_data_set\\\\car_data.csv\")"
   ]
  },
  {
   "cell_type": "code",
   "execution_count": 12,
   "id": "047e9e56-a658-440a-abf3-dbf1a781f696",
   "metadata": {},
   "outputs": [
    {
     "data": {
      "text/html": [
       "<div>\n",
       "<style scoped>\n",
       "    .dataframe tbody tr th:only-of-type {\n",
       "        vertical-align: middle;\n",
       "    }\n",
       "\n",
       "    .dataframe tbody tr th {\n",
       "        vertical-align: top;\n",
       "    }\n",
       "\n",
       "    .dataframe thead th {\n",
       "        text-align: right;\n",
       "    }\n",
       "</style>\n",
       "<table border=\"1\" class=\"dataframe\">\n",
       "  <thead>\n",
       "    <tr style=\"text-align: right;\">\n",
       "      <th></th>\n",
       "      <th>Car_Name</th>\n",
       "      <th>Year</th>\n",
       "      <th>Selling_Price</th>\n",
       "      <th>Present_Price</th>\n",
       "      <th>Kms_Driven</th>\n",
       "      <th>Fuel_Type</th>\n",
       "      <th>Seller_Type</th>\n",
       "      <th>Transmission</th>\n",
       "      <th>Owner</th>\n",
       "    </tr>\n",
       "  </thead>\n",
       "  <tbody>\n",
       "    <tr>\n",
       "      <th>0</th>\n",
       "      <td>ritz</td>\n",
       "      <td>2014</td>\n",
       "      <td>3.35</td>\n",
       "      <td>5.59</td>\n",
       "      <td>27000</td>\n",
       "      <td>Petrol</td>\n",
       "      <td>Dealer</td>\n",
       "      <td>Manual</td>\n",
       "      <td>0</td>\n",
       "    </tr>\n",
       "    <tr>\n",
       "      <th>1</th>\n",
       "      <td>sx4</td>\n",
       "      <td>2013</td>\n",
       "      <td>4.75</td>\n",
       "      <td>9.54</td>\n",
       "      <td>43000</td>\n",
       "      <td>Diesel</td>\n",
       "      <td>Dealer</td>\n",
       "      <td>Manual</td>\n",
       "      <td>0</td>\n",
       "    </tr>\n",
       "    <tr>\n",
       "      <th>2</th>\n",
       "      <td>ciaz</td>\n",
       "      <td>2017</td>\n",
       "      <td>7.25</td>\n",
       "      <td>9.85</td>\n",
       "      <td>6900</td>\n",
       "      <td>Petrol</td>\n",
       "      <td>Dealer</td>\n",
       "      <td>Manual</td>\n",
       "      <td>0</td>\n",
       "    </tr>\n",
       "    <tr>\n",
       "      <th>3</th>\n",
       "      <td>wagon r</td>\n",
       "      <td>2011</td>\n",
       "      <td>2.85</td>\n",
       "      <td>4.15</td>\n",
       "      <td>5200</td>\n",
       "      <td>Petrol</td>\n",
       "      <td>Dealer</td>\n",
       "      <td>Manual</td>\n",
       "      <td>0</td>\n",
       "    </tr>\n",
       "    <tr>\n",
       "      <th>4</th>\n",
       "      <td>swift</td>\n",
       "      <td>2014</td>\n",
       "      <td>4.60</td>\n",
       "      <td>6.87</td>\n",
       "      <td>42450</td>\n",
       "      <td>Diesel</td>\n",
       "      <td>Dealer</td>\n",
       "      <td>Manual</td>\n",
       "      <td>0</td>\n",
       "    </tr>\n",
       "  </tbody>\n",
       "</table>\n",
       "</div>"
      ],
      "text/plain": [
       "  Car_Name  Year  Selling_Price  Present_Price  Kms_Driven Fuel_Type  \\\n",
       "0     ritz  2014           3.35           5.59       27000    Petrol   \n",
       "1      sx4  2013           4.75           9.54       43000    Diesel   \n",
       "2     ciaz  2017           7.25           9.85        6900    Petrol   \n",
       "3  wagon r  2011           2.85           4.15        5200    Petrol   \n",
       "4    swift  2014           4.60           6.87       42450    Diesel   \n",
       "\n",
       "  Seller_Type Transmission  Owner  \n",
       "0      Dealer       Manual      0  \n",
       "1      Dealer       Manual      0  \n",
       "2      Dealer       Manual      0  \n",
       "3      Dealer       Manual      0  \n",
       "4      Dealer       Manual      0  "
      ]
     },
     "execution_count": 12,
     "metadata": {},
     "output_type": "execute_result"
    }
   ],
   "source": [
    "df.head()"
   ]
  },
  {
   "cell_type": "markdown",
   "id": "68b102bd-46e0-4dae-8d3d-a52ec3f3ed8e",
   "metadata": {},
   "source": [
    "# Selling Price"
   ]
  },
  {
   "cell_type": "code",
   "execution_count": 18,
   "id": "435b76c1-1b10-4ca6-b335-5cd2dd92a33d",
   "metadata": {},
   "outputs": [],
   "source": [
    "X = df[[\"Selling_Price\"]]"
   ]
  },
  {
   "cell_type": "code",
   "execution_count": 19,
   "id": "cc52b329-f94a-4cf1-8b7a-2ffcbfb7654a",
   "metadata": {},
   "outputs": [],
   "source": [
    "y = df[\"Kms_Driven\"]"
   ]
  },
  {
   "cell_type": "code",
   "execution_count": 20,
   "id": "4053ebdf-6d48-405f-8185-463fe26b7b81",
   "metadata": {},
   "outputs": [],
   "source": [
    "model = LinearRegression()"
   ]
  },
  {
   "cell_type": "code",
   "execution_count": 22,
   "id": "0c0d2d5a-73a0-465a-9158-4ac28249652c",
   "metadata": {},
   "outputs": [
    {
     "data": {
      "text/html": [
       "<style>#sk-container-id-4 {color: black;background-color: white;}#sk-container-id-4 pre{padding: 0;}#sk-container-id-4 div.sk-toggleable {background-color: white;}#sk-container-id-4 label.sk-toggleable__label {cursor: pointer;display: block;width: 100%;margin-bottom: 0;padding: 0.3em;box-sizing: border-box;text-align: center;}#sk-container-id-4 label.sk-toggleable__label-arrow:before {content: \"▸\";float: left;margin-right: 0.25em;color: #696969;}#sk-container-id-4 label.sk-toggleable__label-arrow:hover:before {color: black;}#sk-container-id-4 div.sk-estimator:hover label.sk-toggleable__label-arrow:before {color: black;}#sk-container-id-4 div.sk-toggleable__content {max-height: 0;max-width: 0;overflow: hidden;text-align: left;background-color: #f0f8ff;}#sk-container-id-4 div.sk-toggleable__content pre {margin: 0.2em;color: black;border-radius: 0.25em;background-color: #f0f8ff;}#sk-container-id-4 input.sk-toggleable__control:checked~div.sk-toggleable__content {max-height: 200px;max-width: 100%;overflow: auto;}#sk-container-id-4 input.sk-toggleable__control:checked~label.sk-toggleable__label-arrow:before {content: \"▾\";}#sk-container-id-4 div.sk-estimator input.sk-toggleable__control:checked~label.sk-toggleable__label {background-color: #d4ebff;}#sk-container-id-4 div.sk-label input.sk-toggleable__control:checked~label.sk-toggleable__label {background-color: #d4ebff;}#sk-container-id-4 input.sk-hidden--visually {border: 0;clip: rect(1px 1px 1px 1px);clip: rect(1px, 1px, 1px, 1px);height: 1px;margin: -1px;overflow: hidden;padding: 0;position: absolute;width: 1px;}#sk-container-id-4 div.sk-estimator {font-family: monospace;background-color: #f0f8ff;border: 1px dotted black;border-radius: 0.25em;box-sizing: border-box;margin-bottom: 0.5em;}#sk-container-id-4 div.sk-estimator:hover {background-color: #d4ebff;}#sk-container-id-4 div.sk-parallel-item::after {content: \"\";width: 100%;border-bottom: 1px solid gray;flex-grow: 1;}#sk-container-id-4 div.sk-label:hover label.sk-toggleable__label {background-color: #d4ebff;}#sk-container-id-4 div.sk-serial::before {content: \"\";position: absolute;border-left: 1px solid gray;box-sizing: border-box;top: 0;bottom: 0;left: 50%;z-index: 0;}#sk-container-id-4 div.sk-serial {display: flex;flex-direction: column;align-items: center;background-color: white;padding-right: 0.2em;padding-left: 0.2em;position: relative;}#sk-container-id-4 div.sk-item {position: relative;z-index: 1;}#sk-container-id-4 div.sk-parallel {display: flex;align-items: stretch;justify-content: center;background-color: white;position: relative;}#sk-container-id-4 div.sk-item::before, #sk-container-id-4 div.sk-parallel-item::before {content: \"\";position: absolute;border-left: 1px solid gray;box-sizing: border-box;top: 0;bottom: 0;left: 50%;z-index: -1;}#sk-container-id-4 div.sk-parallel-item {display: flex;flex-direction: column;z-index: 1;position: relative;background-color: white;}#sk-container-id-4 div.sk-parallel-item:first-child::after {align-self: flex-end;width: 50%;}#sk-container-id-4 div.sk-parallel-item:last-child::after {align-self: flex-start;width: 50%;}#sk-container-id-4 div.sk-parallel-item:only-child::after {width: 0;}#sk-container-id-4 div.sk-dashed-wrapped {border: 1px dashed gray;margin: 0 0.4em 0.5em 0.4em;box-sizing: border-box;padding-bottom: 0.4em;background-color: white;}#sk-container-id-4 div.sk-label label {font-family: monospace;font-weight: bold;display: inline-block;line-height: 1.2em;}#sk-container-id-4 div.sk-label-container {text-align: center;}#sk-container-id-4 div.sk-container {/* jupyter's `normalize.less` sets `[hidden] { display: none; }` but bootstrap.min.css set `[hidden] { display: none !important; }` so we also need the `!important` here to be able to override the default hidden behavior on the sphinx rendered scikit-learn.org. See: https://github.com/scikit-learn/scikit-learn/issues/21755 */display: inline-block !important;position: relative;}#sk-container-id-4 div.sk-text-repr-fallback {display: none;}</style><div id=\"sk-container-id-4\" class=\"sk-top-container\"><div class=\"sk-text-repr-fallback\"><pre>Pipeline(steps=[(&#x27;StandardScaler&#x27;, StandardScaler()),\n",
       "                (&#x27;Classifire&#x27;, LinearRegression())])</pre><b>In a Jupyter environment, please rerun this cell to show the HTML representation or trust the notebook. <br />On GitHub, the HTML representation is unable to render, please try loading this page with nbviewer.org.</b></div><div class=\"sk-container\" hidden><div class=\"sk-item sk-dashed-wrapped\"><div class=\"sk-label-container\"><div class=\"sk-label sk-toggleable\"><input class=\"sk-toggleable__control sk-hidden--visually\" id=\"sk-estimator-id-8\" type=\"checkbox\" ><label for=\"sk-estimator-id-8\" class=\"sk-toggleable__label sk-toggleable__label-arrow\">Pipeline</label><div class=\"sk-toggleable__content\"><pre>Pipeline(steps=[(&#x27;StandardScaler&#x27;, StandardScaler()),\n",
       "                (&#x27;Classifire&#x27;, LinearRegression())])</pre></div></div></div><div class=\"sk-serial\"><div class=\"sk-item\"><div class=\"sk-estimator sk-toggleable\"><input class=\"sk-toggleable__control sk-hidden--visually\" id=\"sk-estimator-id-9\" type=\"checkbox\" ><label for=\"sk-estimator-id-9\" class=\"sk-toggleable__label sk-toggleable__label-arrow\">StandardScaler</label><div class=\"sk-toggleable__content\"><pre>StandardScaler()</pre></div></div></div><div class=\"sk-item\"><div class=\"sk-estimator sk-toggleable\"><input class=\"sk-toggleable__control sk-hidden--visually\" id=\"sk-estimator-id-10\" type=\"checkbox\" ><label for=\"sk-estimator-id-10\" class=\"sk-toggleable__label sk-toggleable__label-arrow\">LinearRegression</label><div class=\"sk-toggleable__content\"><pre>LinearRegression()</pre></div></div></div></div></div></div></div>"
      ],
      "text/plain": [
       "Pipeline(steps=[('StandardScaler', StandardScaler()),\n",
       "                ('Classifire', LinearRegression())])"
      ]
     },
     "execution_count": 22,
     "metadata": {},
     "output_type": "execute_result"
    }
   ],
   "source": [
    "pipe.fit(X,y)"
   ]
  },
  {
   "cell_type": "code",
   "execution_count": 23,
   "id": "5cd3b900-e038-4905-946c-9cf6438e7b20",
   "metadata": {},
   "outputs": [
    {
     "data": {
      "text/plain": [
       "array([36654.39283269, 36967.01371008, 37525.26527683, 36542.74251934,\n",
       "       36933.51861607, 37971.86653024, 37413.61496348, 37357.78980681,\n",
       "       37860.21621689, 37569.92540217, 36542.74251934, 37435.94502615,\n",
       "       37581.09043351, 37268.46955613, 36408.76214332, 37636.91559018,\n",
       "       37525.26527683, 37636.91559018, 36632.06277002, 36498.082394  ,\n",
       "       36542.74251934, 37000.50880408, 36888.85849073, 36464.5873    ,\n",
       "       36553.90755068, 36576.23761335, 36833.03333405, 37246.13949345,\n",
       "       36341.77195531, 37569.92540217, 36598.56767602, 36431.09220599,\n",
       "       37011.67383542, 37246.13949345, 37134.4891801 , 36565.07258201,\n",
       "       36944.68364741, 35984.49095258, 36576.23761335, 36408.76214332,\n",
       "       37212.64439945, 36475.75233133, 36341.77195531, 37134.4891801 ,\n",
       "       36185.46151662, 37581.09043351, 36498.082394  , 36140.80139128,\n",
       "       37201.47936811, 37636.91559018, 39233.51507111, 41042.2501474 ,\n",
       "       39925.74701389, 39479.14576048, 36520.41245667, 36710.21798937,\n",
       "       36911.1885534 , 36967.01371008, 36821.86830272, 40370.11526103,\n",
       "       37458.27508882, 36911.1885534 , 40093.22248391, 41153.90046075,\n",
       "       43275.25641443, 36967.01371008, 40316.52311062, 37971.86653024,\n",
       "       36877.6934594 , 39088.36966375, 36788.37320871, 36911.1885534 ,\n",
       "       37569.92540217, 36498.082394  , 37000.50880408, 36788.37320871,\n",
       "       37134.4891801 , 36241.28667329, 37078.66402343, 39144.19482043,\n",
       "       39195.55396457, 36967.01371008, 41042.2501474 , 38697.59356702,\n",
       "       36685.65492043, 36464.5873    , 43721.85766783, 37223.80943078,\n",
       "       36676.72289536, 36967.01371008, 36754.87811471, 38418.46778364,\n",
       "       36690.12093296, 41042.2501474 , 36799.53824005, 37212.64439945,\n",
       "       40539.82373732, 39702.44638719, 37480.60515149, 38061.18678092,\n",
       "       36297.11182997, 36285.94679863, 36274.7817673 , 36230.12164196,\n",
       "       36207.79157929, 36207.79157929, 36207.79157929, 36185.46151662,\n",
       "       36174.29648528, 36174.29648528, 36174.29648528, 36163.13145395,\n",
       "       36163.13145395, 36163.13145395, 36163.13145395, 36154.19942888,\n",
       "       36151.96642261, 36151.96642261, 36151.96642261, 36140.80139128,\n",
       "       36140.80139128, 36140.80139128, 36140.80139128, 36129.63635994,\n",
       "       36118.47132861, 36107.30629727, 36107.30629727, 36073.81120327,\n",
       "       36084.9762346 , 36080.51022207, 36073.81120327, 36073.81120327,\n",
       "       36073.81120327, 36067.11218446, 36051.48114059, 36051.48114059,\n",
       "       36051.48114059, 36051.48114059, 36040.31610926, 36040.31610926,\n",
       "       36040.31610926, 36040.31610926, 36040.31610926, 36040.31610926,\n",
       "       36040.31610926, 36040.31610926, 36029.15107792, 36029.15107792,\n",
       "       36022.45205912, 36020.21905286, 36017.98604659, 36017.98604659,\n",
       "       36017.98604659, 36017.98604659, 36017.98604659, 36013.52003406,\n",
       "       36013.52003406, 36013.52003406, 36013.52003406, 36006.82101525,\n",
       "       36006.82101525, 36006.82101525, 36006.82101525, 36006.82101525,\n",
       "       36006.82101525, 36006.82101525, 36006.82101525, 36000.12199645,\n",
       "       36000.12199645, 35995.65598392, 35995.65598392, 35995.65598392,\n",
       "       35995.65598392, 35995.65598392, 35991.18997139, 35991.18997139,\n",
       "       35984.49095258, 35984.49095258, 35984.49095258, 35975.55892752,\n",
       "       35973.32592125, 35973.32592125, 35973.32592125, 35966.62690245,\n",
       "       35962.16088991, 35962.16088991, 35962.16088991, 35962.16088991,\n",
       "       35962.16088991, 35950.99585858, 35950.99585858, 35950.99585858,\n",
       "       35950.99585858, 35950.99585858, 35950.99585858, 35946.52984604,\n",
       "       35944.29683978, 35942.06383351, 35939.83082724, 35933.13180844,\n",
       "       35928.66579591, 36632.06277002, 36888.85849073, 36565.07258201,\n",
       "       36520.41245667, 37078.66402343, 37190.31433678, 37056.33396076,\n",
       "       37670.41068419, 36989.34377275, 36598.56767602, 38530.118097  ,\n",
       "       38418.46778364, 36553.90755068, 37078.66402343, 36911.1885534 ,\n",
       "       36553.90755068, 36609.73270735, 37346.62477547, 36911.1885534 ,\n",
       "       36687.8879267 , 36911.1885534 , 37246.13949345, 37748.56590354,\n",
       "       37047.40193569, 36509.24742534, 37078.66402343, 36475.75233133,\n",
       "       37011.67383542, 36598.56767602, 37279.63458746, 37971.86653024,\n",
       "       38463.12790898, 36777.20817738, 37134.4891801 , 37938.37143623,\n",
       "       36598.56767602, 38418.46778364, 36978.17874141, 36352.93698664,\n",
       "       37100.9940861 , 36967.01371008, 36888.85849073, 37301.96465013,\n",
       "       37234.97446212, 37067.49899209, 36743.71308337, 37234.97446212,\n",
       "       36799.53824005, 37078.66402343, 38786.9138177 , 37022.83886675,\n",
       "       37112.15911743, 37514.1002455 , 37078.66402343, 36576.23761335,\n",
       "       38195.16715694, 37804.39106021, 37782.06099754, 36777.20817738,\n",
       "       37949.53646757, 37134.4891801 , 36799.53824005, 37380.11986948,\n",
       "       36799.53824005, 37357.78980681, 36721.3830207 , 37770.89596621,\n",
       "       36978.17874141, 37402.44993215, 36821.86830272, 36576.23761335,\n",
       "       37581.09043351, 36408.76214332, 37089.82905476, 38340.3125643 ,\n",
       "       37837.88615422, 38072.35181225, 37246.13949345, 37301.96465013,\n",
       "       37078.66402343, 36375.26704931, 37748.56590354, 37913.8083673 ,\n",
       "       36687.8879267 , 37558.76037084, 37167.98427411, 37190.31433678,\n",
       "       37782.06099754, 38163.9050692 , 36911.1885534 , 37112.15911743,\n",
       "       37335.45974414, 36632.06277002, 36743.71308337, 37815.55609155,\n",
       "       38027.69168691, 36799.53824005, 36654.39283269, 38474.29294032,\n",
       "       37089.82905476])"
      ]
     },
     "execution_count": 23,
     "metadata": {},
     "output_type": "execute_result"
    }
   ],
   "source": [
    "y_pred = pipe.predict(X)\n",
    "y_pred"
   ]
  },
  {
   "cell_type": "code",
   "execution_count": 24,
   "id": "03a05ba4-a817-4e61-ae24-285f46d197d4",
   "metadata": {},
   "outputs": [
    {
     "data": {
      "text/plain": [
       "0.0008518862620290335"
      ]
     },
     "execution_count": 24,
     "metadata": {},
     "output_type": "execute_result"
    }
   ],
   "source": [
    "pipe.score(X,y)"
   ]
  },
  {
   "cell_type": "code",
   "execution_count": 25,
   "id": "91f25cca-6826-4aaa-9d81-d2a51fe178ba",
   "metadata": {},
   "outputs": [],
   "source": [
    "import matplotlib.pyplot as plt"
   ]
  },
  {
   "cell_type": "code",
   "execution_count": 26,
   "id": "51e72255-be00-4cbf-b775-b32af74742c6",
   "metadata": {},
   "outputs": [
    {
     "data": {
      "image/png": "[encoded data removed]",
      "text/plain": [
       "<Figure size 640x480 with 1 Axes>"
      ]
     },
     "metadata": {},
     "output_type": "display_data"
    }
   ],
   "source": [
    "plt.scatter(X,y)\n",
    "plt.plot(X,y_pred)\n",
    "plt.show()"
   ]
  },
  {
   "cell_type": "code",
   "execution_count": 27,
   "id": "8210ecaa-d41d-4884-a651-602616e4da9a",
   "metadata": {},
   "outputs": [],
   "source": [
    "import seaborn as sns"
   ]
  },
  {
   "cell_type": "code",
   "execution_count": 29,
   "id": "53fda39a-236f-4c45-9003-5cceea66c503",
   "metadata": {},
   "outputs": [
    {
     "data": {
      "image/png": "[encoded data removed]",
      "text/plain": [
       "<Figure size 500x500 with 1 Axes>"
      ]
     },
     "metadata": {},
     "output_type": "display_data"
    }
   ],
   "source": [
    "sns.displot(y_pred)\n",
    "plt.show()"
   ]
  },
  {
   "cell_type": "markdown",
   "id": "6dcdea48-3d83-4f42-867d-0532fa99aea2",
   "metadata": {},
   "source": [
    "# Present Price"
   ]
  },
  {
   "cell_type": "code",
   "execution_count": 30,
   "id": "6a95a49c-11c1-43d5-baeb-39b8724647fe",
   "metadata": {},
   "outputs": [],
   "source": [
    "X = df[[\"Present_Price\"]]\n",
    "y = df[\"Kms_Driven\"]"
   ]
  },
  {
   "cell_type": "code",
   "execution_count": 31,
   "id": "893714d7-29f9-4bf9-aeaf-2f8d3d7ac658",
   "metadata": {},
   "outputs": [
    {
     "data": {
      "text/html": [
       "<style>#sk-container-id-5 {color: black;background-color: white;}#sk-container-id-5 pre{padding: 0;}#sk-container-id-5 div.sk-toggleable {background-color: white;}#sk-container-id-5 label.sk-toggleable__label {cursor: pointer;display: block;width: 100%;margin-bottom: 0;padding: 0.3em;box-sizing: border-box;text-align: center;}#sk-container-id-5 label.sk-toggleable__label-arrow:before {content: \"▸\";float: left;margin-right: 0.25em;color: #696969;}#sk-container-id-5 label.sk-toggleable__label-arrow:hover:before {color: black;}#sk-container-id-5 div.sk-estimator:hover label.sk-toggleable__label-arrow:before {color: black;}#sk-container-id-5 div.sk-toggleable__content {max-height: 0;max-width: 0;overflow: hidden;text-align: left;background-color: #f0f8ff;}#sk-container-id-5 div.sk-toggleable__content pre {margin: 0.2em;color: black;border-radius: 0.25em;background-color: #f0f8ff;}#sk-container-id-5 input.sk-toggleable__control:checked~div.sk-toggleable__content {max-height: 200px;max-width: 100%;overflow: auto;}#sk-container-id-5 input.sk-toggleable__control:checked~label.sk-toggleable__label-arrow:before {content: \"▾\";}#sk-container-id-5 div.sk-estimator input.sk-toggleable__control:checked~label.sk-toggleable__label {background-color: #d4ebff;}#sk-container-id-5 div.sk-label input.sk-toggleable__control:checked~label.sk-toggleable__label {background-color: #d4ebff;}#sk-container-id-5 input.sk-hidden--visually {border: 0;clip: rect(1px 1px 1px 1px);clip: rect(1px, 1px, 1px, 1px);height: 1px;margin: -1px;overflow: hidden;padding: 0;position: absolute;width: 1px;}#sk-container-id-5 div.sk-estimator {font-family: monospace;background-color: #f0f8ff;border: 1px dotted black;border-radius: 0.25em;box-sizing: border-box;margin-bottom: 0.5em;}#sk-container-id-5 div.sk-estimator:hover {background-color: #d4ebff;}#sk-container-id-5 div.sk-parallel-item::after {content: \"\";width: 100%;border-bottom: 1px solid gray;flex-grow: 1;}#sk-container-id-5 div.sk-label:hover label.sk-toggleable__label {background-color: #d4ebff;}#sk-container-id-5 div.sk-serial::before {content: \"\";position: absolute;border-left: 1px solid gray;box-sizing: border-box;top: 0;bottom: 0;left: 50%;z-index: 0;}#sk-container-id-5 div.sk-serial {display: flex;flex-direction: column;align-items: center;background-color: white;padding-right: 0.2em;padding-left: 0.2em;position: relative;}#sk-container-id-5 div.sk-item {position: relative;z-index: 1;}#sk-container-id-5 div.sk-parallel {display: flex;align-items: stretch;justify-content: center;background-color: white;position: relative;}#sk-container-id-5 div.sk-item::before, #sk-container-id-5 div.sk-parallel-item::before {content: \"\";position: absolute;border-left: 1px solid gray;box-sizing: border-box;top: 0;bottom: 0;left: 50%;z-index: -1;}#sk-container-id-5 div.sk-parallel-item {display: flex;flex-direction: column;z-index: 1;position: relative;background-color: white;}#sk-container-id-5 div.sk-parallel-item:first-child::after {align-self: flex-end;width: 50%;}#sk-container-id-5 div.sk-parallel-item:last-child::after {align-self: flex-start;width: 50%;}#sk-container-id-5 div.sk-parallel-item:only-child::after {width: 0;}#sk-container-id-5 div.sk-dashed-wrapped {border: 1px dashed gray;margin: 0 0.4em 0.5em 0.4em;box-sizing: border-box;padding-bottom: 0.4em;background-color: white;}#sk-container-id-5 div.sk-label label {font-family: monospace;font-weight: bold;display: inline-block;line-height: 1.2em;}#sk-container-id-5 div.sk-label-container {text-align: center;}#sk-container-id-5 div.sk-container {/* jupyter's `normalize.less` sets `[hidden] { display: none; }` but bootstrap.min.css set `[hidden] { display: none !important; }` so we also need the `!important` here to be able to override the default hidden behavior on the sphinx rendered scikit-learn.org. See: https://github.com/scikit-learn/scikit-learn/issues/21755 */display: inline-block !important;position: relative;}#sk-container-id-5 div.sk-text-repr-fallback {display: none;}</style><div id=\"sk-container-id-5\" class=\"sk-top-container\"><div class=\"sk-text-repr-fallback\"><pre>Pipeline(steps=[(&#x27;StandardScaler&#x27;, StandardScaler()),\n",
       "                (&#x27;Classifire&#x27;, LinearRegression())])</pre><b>In a Jupyter environment, please rerun this cell to show the HTML representation or trust the notebook. <br />On GitHub, the HTML representation is unable to render, please try loading this page with nbviewer.org.</b></div><div class=\"sk-container\" hidden><div class=\"sk-item sk-dashed-wrapped\"><div class=\"sk-label-container\"><div class=\"sk-label sk-toggleable\"><input class=\"sk-toggleable__control sk-hidden--visually\" id=\"sk-estimator-id-11\" type=\"checkbox\" ><label for=\"sk-estimator-id-11\" class=\"sk-toggleable__label sk-toggleable__label-arrow\">Pipeline</label><div class=\"sk-toggleable__content\"><pre>Pipeline(steps=[(&#x27;StandardScaler&#x27;, StandardScaler()),\n",
       "                (&#x27;Classifire&#x27;, LinearRegression())])</pre></div></div></div><div class=\"sk-serial\"><div class=\"sk-item\"><div class=\"sk-estimator sk-toggleable\"><input class=\"sk-toggleable__control sk-hidden--visually\" id=\"sk-estimator-id-12\" type=\"checkbox\" ><label for=\"sk-estimator-id-12\" class=\"sk-toggleable__label sk-toggleable__label-arrow\">StandardScaler</label><div class=\"sk-toggleable__content\"><pre>StandardScaler()</pre></div></div></div><div class=\"sk-item\"><div class=\"sk-estimator sk-toggleable\"><input class=\"sk-toggleable__control sk-hidden--visually\" id=\"sk-estimator-id-13\" type=\"checkbox\" ><label for=\"sk-estimator-id-13\" class=\"sk-toggleable__label sk-toggleable__label-arrow\">LinearRegression</label><div class=\"sk-toggleable__content\"><pre>LinearRegression()</pre></div></div></div></div></div></div></div>"
      ],
      "text/plain": [
       "Pipeline(steps=[('StandardScaler', StandardScaler()),\n",
       "                ('Classifire', LinearRegression())])"
      ]
     },
     "execution_count": 31,
     "metadata": {},
     "output_type": "execute_result"
    }
   ],
   "source": [
    "pipe.fit(X,y)"
   ]
  },
  {
   "cell_type": "code",
   "execution_count": 34,
   "id": "19af60a1-5873-4841-b6eb-202efa443901",
   "metadata": {},
   "outputs": [
    {
     "data": {
      "text/plain": [
       "array([ 35079.68548884,  38698.42874651,  38982.43138192,  33760.44744048,\n",
       "        36252.34153183,  38964.10863125,  37397.51344882,  37846.42084028,\n",
       "        38102.93934968,  38130.42347569,  33256.57179701,  39467.98427472,\n",
       "        39064.88375995,  37021.89706005,  36563.82829325,  39843.60066349,\n",
       "        39843.60066349,  39843.60066349,  34621.61672205,  37269.25419412,\n",
       "        33577.21993376,  35189.62199287,  37296.73832012,  33128.3125423 ,\n",
       "        33998.64319921,  34530.00296869,  35336.20399825,  35904.20926907,\n",
       "        33577.21993376,  39467.98427472,  35436.97912694,  34438.38921533,\n",
       "        36820.34680266,  39074.04513528,  37342.5451968 ,  37049.38118605,\n",
       "        36554.66691792,  32047.27025267,  33403.15380238,  37269.25419412,\n",
       "        37168.47906542,  33604.70405977,  36508.86004124,  37342.5451968 ,\n",
       "        32422.88664144,  40988.77258048,  34438.38921533,  33760.44744048,\n",
       "        37021.89706005,  38469.39436311,  58001.44657918,  58001.44657918,\n",
       "        48070.5157151 ,  58001.44657918,  39312.24089401,  43737.18518124,\n",
       "        36618.79654527,  46943.66654879,  36188.21190448,  62902.78238387,\n",
       "        47007.79617614,  37012.73568471,  62902.78238387,  62902.78238387,\n",
       "        63150.13951794,  36325.63253452,  51167.06057862,  48693.48923794,\n",
       "        42546.20638757,  49114.91250339,  36151.56640314,  41391.87309526,\n",
       "        47007.79617614,  35189.62199287,  38139.58485102,  36188.21190448,\n",
       "        43407.37566915,  41272.77521589,  50873.89656788,  58001.44657918,\n",
       "        43599.7645512 ,  37150.15631475,  53219.20865386,  42289.68787817,\n",
       "        42289.68787817,  51698.4203481 , 114792.81228621,  42546.20638757,\n",
       "        35501.10875429,  36151.56640314,  47007.79617614,  44699.1295915 ,\n",
       "        42509.56088623,  58001.44657918,  50828.0896912 ,  47007.79617614,\n",
       "        53219.20865386,  47035.28030215,  47007.79617614,  48693.48923794,\n",
       "        31699.13798991,  31625.84698722,  31589.20148588,  31424.29672983,\n",
       "        31305.19885047,  32129.72263069,  33119.15116697,  31332.68297647,\n",
       "        31332.68297647,  31305.19885047,  31589.20148588,  31332.68297647,\n",
       "        32157.2067567 ,  31241.06922312,  31305.19885047,  31305.19885047,\n",
       "        31305.19885047,  31699.13798991,  31305.19885047,  31699.13798991,\n",
       "        31112.80996841,  31332.68297647,  31030.35759039,  31305.19885047,\n",
       "        31561.71735987,  31561.71735987,  30828.807333  ,  30691.38670296,\n",
       "        30755.51633031,  30728.03220431,  30755.51633031,  30709.70945364,\n",
       "        30828.807333  ,  30828.807333  ,  30700.5480783 ,  30636.41845095,\n",
       "        31057.8417164 ,  30679.47691503,  30755.51633031,  30828.807333  ,\n",
       "        31057.8417164 ,  30691.38670296,  30728.03220431,  30728.03220431,\n",
       "        30865.45283435,  30700.5480783 ,  30679.47691503,  30728.03220431,\n",
       "        30819.64595767,  30819.64595767,  30715.20627884,  30462.35231957,\n",
       "        30865.45283435,  30865.45283435,  30764.67770565,  30425.70681822,\n",
       "        30434.86819356,  30728.03220431,  30453.19094423,  30425.70681822,\n",
       "        30828.807333  ,  30715.20627884,  30865.45283435,  30828.807333  ,\n",
       "        30453.19094423,  30453.19094423,  30462.35231957,  30700.5480783 ,\n",
       "        30627.25707561,  30453.19094423,  30718.87082897,  30462.35231957,\n",
       "        30544.80469759,  30425.70681822,  30618.09570028,  30679.47691503,\n",
       "        30920.42108636,  30480.67507024,  30434.86819356,  30920.42108636,\n",
       "        30425.70681822,  30398.22269222,  30489.83644557,  30389.06131688,\n",
       "        30645.57982628,  30489.83644557,  30434.86819356,  30425.70681822,\n",
       "        30480.67507024,  30480.67507024,  30645.57982628,  30480.67507024,\n",
       "        30645.57982628,  30553.96607293,  30679.47691503,  30251.64068684,\n",
       "        30434.86819356,  30425.70681822,  30480.67507024,  30489.83644557,\n",
       "        30645.57982628,  36179.05052915,  35180.46061754,  34172.70933059,\n",
       "        34016.96594988,  35180.46061754,  36490.53729057,  35180.46061754,\n",
       "        37379.19069815,  35180.46061754,  34172.70933059,  43508.15079784,\n",
       "        42417.94713287,  36179.05052915,  35180.46061754,  38570.16949181,\n",
       "        34016.96594988,  34016.96594988,  38570.16949181,  38570.16949181,\n",
       "        34016.96594988,  36179.05052915,  36921.12193135,  38570.16949181,\n",
       "        38570.16949181,  34172.70933059,  35180.46061754,  34016.96594988,\n",
       "        38570.16949181,  36179.05052915,  38570.16949181,  38570.16949181,\n",
       "        43508.15079784,  35180.46061754,  35180.46061754,  38570.16949181,\n",
       "        34016.96594988,  42417.94713287,  38570.16949181,  34016.96594988,\n",
       "        38570.16949181,  36490.53729057,  36490.53729057,  36921.12193135,\n",
       "        38570.16949181,  38570.16949181,  36179.05052915,  38570.16949181,\n",
       "        34172.70933059,  36921.12193135,  42417.94713287,  39028.2382586 ,\n",
       "        36206.53465516,  39028.2382586 ,  39028.2382586 ,  34859.81248078,\n",
       "        42417.94713287,  42417.94713287,  42417.94713287,  36371.4394112 ,\n",
       "        42417.94713287,  35427.81775161,  35272.0743709 ,  37012.73568471,\n",
       "        36371.4394112 ,  37928.8732183 ,  36371.4394112 ,  38570.16949181,\n",
       "        35272.0743709 ,  39119.85201196,  39119.85201196,  39119.85201196,\n",
       "        39119.85201196,  36829.50817799,  36188.21190448,  42417.94713287,\n",
       "        42417.94713287,  42417.94713287,  37654.03195822,  42417.94713287,\n",
       "        35363.68812426,  36921.12193135,  42784.40214631,  40768.89957242,\n",
       "        35363.68812426,  37745.64571158,  37195.96319143,  36829.50817799,\n",
       "        42417.94713287,  42417.94713287,  35821.75689105,  35546.91563097,\n",
       "        37654.03195822,  39028.2382586 ,  36188.21190448,  41950.71699074,\n",
       "        40585.6720657 ,  35363.68812426,  40035.98954555,  41410.19584593,\n",
       "        35363.68812426])"
      ]
     },
     "execution_count": 34,
     "metadata": {},
     "output_type": "execute_result"
    }
   ],
   "source": [
    "pred_y = pipe.predict(X)\n",
    "pred_y"
   ]
  },
  {
   "cell_type": "code",
   "execution_count": 33,
   "id": "55e4b923-1903-4cd0-bf7a-6939c8c0543a",
   "metadata": {},
   "outputs": [
    {
     "data": {
      "text/plain": [
       "0.041472114460716636"
      ]
     },
     "execution_count": 33,
     "metadata": {},
     "output_type": "execute_result"
    }
   ],
   "source": [
    "pipe.score(X,y)"
   ]
  },
  {
   "cell_type": "code",
   "execution_count": 37,
   "id": "d0ee7087-35ab-47f3-85f4-98923c697407",
   "metadata": {},
   "outputs": [
    {
     "data": {
      "image/png": "[encoded data removed]",
      "text/plain": [
       "<Figure size 640x480 with 1 Axes>"
      ]
     },
     "metadata": {},
     "output_type": "display_data"
    }
   ],
   "source": [
    "plt.scatter(X,y)\n",
    "plt.plot(X,pred_y)\n",
    "plt.show()"
   ]
  },
  {
   "cell_type": "code",
   "execution_count": 39,
   "id": "977061f7-72b3-46f6-b63e-47e740074e73",
   "metadata": {},
   "outputs": [
    {
     "data": {
      "image/png": "[encoded data removed]",
      "text/plain": [
       "<Figure size 500x500 with 1 Axes>"
      ]
     },
     "metadata": {},
     "output_type": "display_data"
    }
   ],
   "source": [
    "sns.displot(pred_y)\n",
    "plt.show()"
   ]
  },
  {
   "cell_type": "code",
   "execution_count": null,
   "id": "783df564-693d-4f49-8d23-a4b14f01e8d4",
   "metadata": {},
   "outputs": [],
   "source": []
  }
 ],
 "metadata": {
  "kernelspec": {
   "display_name": "Python 3 (ipykernel)",
   "language": "python",
   "name": "python3"
  },
  "language_info": {
   "codemirror_mode": {
    "name": "ipython",
    "version": 3
   },
   "file_extension": ".py",
   "mimetype": "text/x-python",
   "name": "python",
   "nbconvert_exporter": "python",
   "pygments_lexer": "ipython3",
   "version": "3.11.7"
  },
  "widgets": {
   "application/vnd.jupyter.widget-state+json": {
    "state": {},
    "version_major": 2,
    "version_minor": 0
   }
  }
 },
 "nbformat": 4,
 "nbformat_minor": 5
}
